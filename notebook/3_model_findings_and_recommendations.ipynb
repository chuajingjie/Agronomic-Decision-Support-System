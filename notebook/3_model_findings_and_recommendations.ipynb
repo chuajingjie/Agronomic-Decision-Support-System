{
 "cells": [
  {
   "cell_type": "code",
   "execution_count": 6,
   "metadata": {},
   "outputs": [],
   "source": [
    "import joblib\n",
    "import pandas as pd"
   ]
  },
  {
   "cell_type": "markdown",
   "metadata": {},
   "source": [
    "#### Load the trained model"
   ]
  },
  {
   "cell_type": "code",
   "execution_count": 18,
   "metadata": {},
   "outputs": [],
   "source": [
    "model = joblib.load(\"..\\model\\model_pipeline.joblib\")"
   ]
  },
  {
   "cell_type": "markdown",
   "metadata": {},
   "source": [
    "#### Give recommendations based on example scenarios"
   ]
  },
  {
   "cell_type": "code",
   "execution_count": 55,
   "metadata": {},
   "outputs": [
    {
     "name": "stdout",
     "output_type": "stream",
     "text": [
      "Optimal Fertilizer Amount for Scenario 1: 132.79888916015625 kg/ha\n"
     ]
    }
   ],
   "source": [
    "# Scenario 1: Yellowing Wheat with Low Rainfall and Low Soil Nutrient Levels\n",
    "condition_1 = pd.DataFrame([{\n",
    "    'soil_color': 'dark brown',\n",
    "    'soil_ph': 5.8,\n",
    "    'soil_n': 15.0,\n",
    "    'soil_p': 20.0,\n",
    "    'temp': 25.0,\n",
    "    'rainfall': 10.0,\n",
    "    'forecast_temp': 27.0,\n",
    "    'forecast_rainfall': 60.0,\n",
    "    'crop_type': 'wheat',\n",
    "    'plant_health': 'yellowing'\n",
    "}])\n",
    "\n",
    "optimal_amount_1 = model.predict(condition_1)\n",
    "print(f\"Optimal Fertilizer Amount for Scenario 1: {optimal_amount_1[0]} kg/ha\")"
   ]
  },
  {
   "cell_type": "code",
   "execution_count": 56,
   "metadata": {},
   "outputs": [
    {
     "name": "stdout",
     "output_type": "stream",
     "text": [
      "Optimal Fertilizer Amount for Scenario 2: 105.19200134277344 kg/ha\n"
     ]
    }
   ],
   "source": [
    "# Scenario 2: Healthy Rice with High Rainfall and High Soil Nutrient Levels\n",
    "condition_2 = pd.DataFrame([{\n",
    "    'soil_color': 'reddish',\n",
    "    'soil_ph': 7.0,\n",
    "    'soil_n': 45.0,\n",
    "    'soil_p': 50.0,\n",
    "    'temp': 30.0,\n",
    "    'rainfall': 200.0,\n",
    "    'forecast_temp': 32.0,\n",
    "    'forecast_rainfall': 210.0,\n",
    "    'crop_type': 'rice',\n",
    "    'plant_health': 'healthy'\n",
    "}])\n",
    "\n",
    "optimal_amount_2 = model.predict(condition_2)\n",
    "print(f\"Optimal Fertilizer Amount for Scenario 2: {optimal_amount_2[0]} kg/ha\")"
   ]
  },
  {
   "cell_type": "code",
   "execution_count": 59,
   "metadata": {},
   "outputs": [
    {
     "name": "stdout",
     "output_type": "stream",
     "text": [
      "Optimal Fertilizer Amount for Scenario 1: 136.64129638671875 kg/ha\n"
     ]
    }
   ],
   "source": [
    "# Scenario 3: Wilting Wheat with Very Low Nutrient Levels and Low Rainfall\n",
    "condition_3 = pd.DataFrame([{\n",
    "    'soil_color': 'light brown',\n",
    "    'soil_ph': 5.5,\n",
    "    'soil_n': 10.0,\n",
    "    'soil_p': 10.0,\n",
    "    'temp': 25.0,\n",
    "    'rainfall': 10.0,\n",
    "    'forecast_temp': 26.0,\n",
    "    'forecast_rainfall': 15.0,\n",
    "    'crop_type': 'wheat',\n",
    "    'plant_health': 'wilting'\n",
    "}])\n",
    "\n",
    "optimal_amount_3 = model.predict(condition_3)\n",
    "print(f\"Optimal Fertilizer Amount for Scenario 1: {optimal_amount_3[0]} kg/ha\")"
   ]
  }
 ],
 "metadata": {
  "kernelspec": {
   "display_name": "Python 3",
   "language": "python",
   "name": "python3"
  },
  "language_info": {
   "codemirror_mode": {
    "name": "ipython",
    "version": 3
   },
   "file_extension": ".py",
   "mimetype": "text/x-python",
   "name": "python",
   "nbconvert_exporter": "python",
   "pygments_lexer": "ipython3",
   "version": "3.8.18"
  }
 },
 "nbformat": 4,
 "nbformat_minor": 2
}
